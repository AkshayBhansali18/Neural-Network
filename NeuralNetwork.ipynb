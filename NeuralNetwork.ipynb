{
  "nbformat": 4,
  "nbformat_minor": 0,
  "metadata": {
    "colab": {
      "name": "Untitled18.ipynb",
      "provenance": [],
      "include_colab_link": true
    },
    "kernelspec": {
      "name": "python3",
      "display_name": "Python 3"
    }
  },
  "cells": [
    {
      "cell_type": "markdown",
      "metadata": {
        "id": "view-in-github",
        "colab_type": "text"
      },
      "source": [
        "<a href=\"https://colab.research.google.com/github/AkshayBhansali18/Neural-Network/blob/master/NeuralNetwork.ipynb\" target=\"_parent\"><img src=\"https://colab.research.google.com/assets/colab-badge.svg\" alt=\"Open In Colab\"/></a>"
      ]
    },
    {
      "cell_type": "code",
      "metadata": {
        "id": "jU9CoLKdG6Kf",
        "colab_type": "code",
        "colab": {}
      },
      "source": [
        "import numpy as np\n",
        "import pandas as pd\n",
        "import matplotlib.pyplot as plt"
      ],
      "execution_count": 0,
      "outputs": []
    },
    {
      "cell_type": "code",
      "metadata": {
        "id": "S1ybLJ0LHCYs",
        "colab_type": "code",
        "colab": {}
      },
      "source": [
        "dataset=pd.read_csv('student_scores2.csv')"
      ],
      "execution_count": 0,
      "outputs": []
    },
    {
      "cell_type": "code",
      "metadata": {
        "id": "ca8fDeNNHQvW",
        "colab_type": "code",
        "outputId": "f3b72a23-cd15-4c82-f078-a6e35d68d031",
        "colab": {
          "base_uri": "https://localhost:8080/",
          "height": 343
        }
      },
      "source": [
        "dataset.head(10)"
      ],
      "execution_count": 123,
      "outputs": [
        {
          "output_type": "execute_result",
          "data": {
            "text/html": [
              "<div>\n",
              "<style scoped>\n",
              "    .dataframe tbody tr th:only-of-type {\n",
              "        vertical-align: middle;\n",
              "    }\n",
              "\n",
              "    .dataframe tbody tr th {\n",
              "        vertical-align: top;\n",
              "    }\n",
              "\n",
              "    .dataframe thead th {\n",
              "        text-align: right;\n",
              "    }\n",
              "</style>\n",
              "<table border=\"1\" class=\"dataframe\">\n",
              "  <thead>\n",
              "    <tr style=\"text-align: right;\">\n",
              "      <th></th>\n",
              "      <th>Hours</th>\n",
              "      <th>IQ</th>\n",
              "      <th>Scores</th>\n",
              "      <th>Pass</th>\n",
              "    </tr>\n",
              "  </thead>\n",
              "  <tbody>\n",
              "    <tr>\n",
              "      <th>0</th>\n",
              "      <td>2.3</td>\n",
              "      <td>80</td>\n",
              "      <td>18</td>\n",
              "      <td>0</td>\n",
              "    </tr>\n",
              "    <tr>\n",
              "      <th>1</th>\n",
              "      <td>5.0</td>\n",
              "      <td>80</td>\n",
              "      <td>45</td>\n",
              "      <td>1</td>\n",
              "    </tr>\n",
              "    <tr>\n",
              "      <th>2</th>\n",
              "      <td>3.2</td>\n",
              "      <td>70</td>\n",
              "      <td>25</td>\n",
              "      <td>0</td>\n",
              "    </tr>\n",
              "    <tr>\n",
              "      <th>3</th>\n",
              "      <td>8.5</td>\n",
              "      <td>90</td>\n",
              "      <td>72</td>\n",
              "      <td>1</td>\n",
              "    </tr>\n",
              "    <tr>\n",
              "      <th>4</th>\n",
              "      <td>3.5</td>\n",
              "      <td>70</td>\n",
              "      <td>30</td>\n",
              "      <td>0</td>\n",
              "    </tr>\n",
              "    <tr>\n",
              "      <th>5</th>\n",
              "      <td>1.5</td>\n",
              "      <td>80</td>\n",
              "      <td>20</td>\n",
              "      <td>0</td>\n",
              "    </tr>\n",
              "    <tr>\n",
              "      <th>6</th>\n",
              "      <td>9.2</td>\n",
              "      <td>100</td>\n",
              "      <td>88</td>\n",
              "      <td>1</td>\n",
              "    </tr>\n",
              "    <tr>\n",
              "      <th>7</th>\n",
              "      <td>5.5</td>\n",
              "      <td>90</td>\n",
              "      <td>60</td>\n",
              "      <td>1</td>\n",
              "    </tr>\n",
              "    <tr>\n",
              "      <th>8</th>\n",
              "      <td>8.3</td>\n",
              "      <td>100</td>\n",
              "      <td>81</td>\n",
              "      <td>1</td>\n",
              "    </tr>\n",
              "    <tr>\n",
              "      <th>9</th>\n",
              "      <td>2.7</td>\n",
              "      <td>90</td>\n",
              "      <td>25</td>\n",
              "      <td>0</td>\n",
              "    </tr>\n",
              "  </tbody>\n",
              "</table>\n",
              "</div>"
            ],
            "text/plain": [
              "   Hours   IQ  Scores  Pass\n",
              "0    2.3   80      18     0\n",
              "1    5.0   80      45     1\n",
              "2    3.2   70      25     0\n",
              "3    8.5   90      72     1\n",
              "4    3.5   70      30     0\n",
              "5    1.5   80      20     0\n",
              "6    9.2  100      88     1\n",
              "7    5.5   90      60     1\n",
              "8    8.3  100      81     1\n",
              "9    2.7   90      25     0"
            ]
          },
          "metadata": {
            "tags": []
          },
          "execution_count": 123
        }
      ]
    },
    {
      "cell_type": "code",
      "metadata": {
        "id": "Uo4vlSEFHSg7",
        "colab_type": "code",
        "colab": {}
      },
      "source": [
        "passed=dataset[dataset['Pass']==1]"
      ],
      "execution_count": 0,
      "outputs": []
    },
    {
      "cell_type": "code",
      "metadata": {
        "id": "rUEsS8mXIhel",
        "colab_type": "code",
        "outputId": "8646627c-e84a-40ba-c213-5d8afbf66913",
        "colab": {
          "base_uri": "https://localhost:8080/",
          "height": 195
        }
      },
      "source": [
        "passed.head()"
      ],
      "execution_count": 125,
      "outputs": [
        {
          "output_type": "execute_result",
          "data": {
            "text/html": [
              "<div>\n",
              "<style scoped>\n",
              "    .dataframe tbody tr th:only-of-type {\n",
              "        vertical-align: middle;\n",
              "    }\n",
              "\n",
              "    .dataframe tbody tr th {\n",
              "        vertical-align: top;\n",
              "    }\n",
              "\n",
              "    .dataframe thead th {\n",
              "        text-align: right;\n",
              "    }\n",
              "</style>\n",
              "<table border=\"1\" class=\"dataframe\">\n",
              "  <thead>\n",
              "    <tr style=\"text-align: right;\">\n",
              "      <th></th>\n",
              "      <th>Hours</th>\n",
              "      <th>IQ</th>\n",
              "      <th>Scores</th>\n",
              "      <th>Pass</th>\n",
              "    </tr>\n",
              "  </thead>\n",
              "  <tbody>\n",
              "    <tr>\n",
              "      <th>1</th>\n",
              "      <td>5.0</td>\n",
              "      <td>80</td>\n",
              "      <td>45</td>\n",
              "      <td>1</td>\n",
              "    </tr>\n",
              "    <tr>\n",
              "      <th>3</th>\n",
              "      <td>8.5</td>\n",
              "      <td>90</td>\n",
              "      <td>72</td>\n",
              "      <td>1</td>\n",
              "    </tr>\n",
              "    <tr>\n",
              "      <th>6</th>\n",
              "      <td>9.2</td>\n",
              "      <td>100</td>\n",
              "      <td>88</td>\n",
              "      <td>1</td>\n",
              "    </tr>\n",
              "    <tr>\n",
              "      <th>7</th>\n",
              "      <td>5.5</td>\n",
              "      <td>90</td>\n",
              "      <td>60</td>\n",
              "      <td>1</td>\n",
              "    </tr>\n",
              "    <tr>\n",
              "      <th>8</th>\n",
              "      <td>8.3</td>\n",
              "      <td>100</td>\n",
              "      <td>81</td>\n",
              "      <td>1</td>\n",
              "    </tr>\n",
              "  </tbody>\n",
              "</table>\n",
              "</div>"
            ],
            "text/plain": [
              "   Hours   IQ  Scores  Pass\n",
              "1    5.0   80      45     1\n",
              "3    8.5   90      72     1\n",
              "6    9.2  100      88     1\n",
              "7    5.5   90      60     1\n",
              "8    8.3  100      81     1"
            ]
          },
          "metadata": {
            "tags": []
          },
          "execution_count": 125
        }
      ]
    },
    {
      "cell_type": "markdown",
      "metadata": {
        "id": "F7XLGiM0GLUK",
        "colab_type": "text"
      },
      "source": [
        ""
      ]
    },
    {
      "cell_type": "code",
      "metadata": {
        "id": "-QEztOetIkz1",
        "colab_type": "code",
        "colab": {}
      },
      "source": [
        "failed=dataset[dataset['Pass']==0]"
      ],
      "execution_count": 0,
      "outputs": []
    },
    {
      "cell_type": "code",
      "metadata": {
        "id": "cBB8pPWPItc7",
        "colab_type": "code",
        "outputId": "144d582c-a660-4ce1-e54c-2113fca73636",
        "colab": {
          "base_uri": "https://localhost:8080/",
          "height": 269
        }
      },
      "source": [
        "plt.scatter(passed['Hours'],passed['IQ'],c='blue')\n",
        "plt.scatter(failed['Hours'],failed['IQ'],c='red')\n",
        "plt.xlabel='Hours Studied'\n",
        "plt.show()"
      ],
      "execution_count": 127,
      "outputs": [
        {
          "output_type": "display_data",
          "data": {
            "image/png": "[encoded data removed]",
            "text/plain": [
              "<Figure size 432x288 with 1 Axes>"
            ]
          },
          "metadata": {
            "tags": []
          }
        }
      ]
    },
    {
      "cell_type": "code",
      "metadata": {
        "id": "kK2SMM9wQwwZ",
        "colab_type": "code",
        "colab": {}
      },
      "source": [
        "x=dataset.loc[:,('Hours','IQ')].values\n",
        "y=dataset.iloc[:,-1].values.reshape(-1,1)\n",
        "from sklearn.preprocessing import StandardScaler\n",
        "sc=StandardScaler()\n",
        "x=sc.fit_transform(x)"
      ],
      "execution_count": 0,
      "outputs": []
    },
    {
      "cell_type": "code",
      "metadata": {
        "id": "yA8JnFMaI_rH",
        "colab_type": "code",
        "colab": {
          "base_uri": "https://localhost:8080/",
          "height": 353
        },
        "outputId": "779a154f-3251-4fba-ab64-0146cdf25e27"
      },
      "source": [
        "from sklearn.model_selection import train_test_split\n",
        "x_train,x_test,y_train,y_test=train_test_split(x,y,test_size=0.33)\n"
      ],
      "execution_count": 139,
      "outputs": [
        {
          "output_type": "execute_result",
          "data": {
            "text/plain": [
              "array([[ 1.14911459,  0.16940942],\n",
              "       [ 1.27337931,  0.82587092],\n",
              "       [-0.79769931, -1.14351358],\n",
              "       [ 0.90058516,  0.82587092],\n",
              "       [ 0.15499685, -1.14351358],\n",
              "       [ 0.19641842, -0.48705208],\n",
              "       [-1.29475818, -1.14351358],\n",
              "       [-0.79769931, -0.48705208],\n",
              "       [-1.12907189, -0.48705208],\n",
              "       [-0.50774831,  0.16940942],\n",
              "       [ 0.36210471, -0.48705208],\n",
              "       [ 1.52190874,  0.16940942],\n",
              "       [-1.46044447,  1.48233242],\n",
              "       [ 0.11357528,  0.82587092],\n",
              "       [-0.88054246,  0.16940942],\n",
              "       [-0.59059145, -1.79997509],\n",
              "       [-0.9633856 , -1.14351358],\n",
              "       [-0.38348359, -1.14351358],\n",
              "       [-1.04622875,  2.13879393],\n",
              "       [-0.50774831,  0.82587092]])"
            ]
          },
          "metadata": {
            "tags": []
          },
          "execution_count": 139
        }
      ]
    },
    {
      "cell_type": "code",
      "metadata": {
        "id": "fl821-UIR3tT",
        "colab_type": "code",
        "colab": {}
      },
      "source": [
        "class NeuralNetwork():\n",
        "  def __init__(self,input_size,output_size,hidden_units):\n",
        "    self.input_size=input_size\n",
        "    self.output_size=output_size\n",
        "    self.hidden_units=hidden_units\n",
        "    self.w1=np.zeros((self.input_size,self.hidden_units))\n",
        "    self.w2=np.zeros((self.hidden_units,self.output_size))\n",
        "  \n",
        "  def forward(self,x_train):\n",
        "    self.output_1=sigmoid(np.dot(x_train,self.w1))\n",
        "    self.output_2=sigmoid(np.dot(self.output_1,self.w2))\n",
        "    return self.output_2\n",
        "  \n",
        "  def backward(self,x_train,y_train):\n",
        "    delta_w2=(self.output_2 - y_train) * sigmoid_prime(self.output_2)\n",
        "    delta_w1=delta_w2.dot(self.w2.T) * sigmoid_prime(self.output_1)\n",
        "    self.w1=self.w1- x_train.T.dot(delta_w1)\n",
        "    self.w2=self.w2-self.output_1.T.dot(delta_w2)\n",
        "    \n",
        "    \n",
        "  def fit(self,x_train,y_train):\n",
        "    pred_val=self.forward(x_train)\n",
        "    self.backward(x_train,y_train)\n",
        "  def loss(self,x_train,y_train):\n",
        "    y_pred=self.forward(x_train)\n",
        "    self.calc_loss=np.mean(np.square(y_train-y_pred))\n",
        "    return self.calc_loss\n",
        "    "
      ],
      "execution_count": 0,
      "outputs": []
    },
    {
      "cell_type": "code",
      "metadata": {
        "id": "63OiYU9q-yoi",
        "colab_type": "code",
        "colab": {}
      },
      "source": [
        "def sigmoid(s):\n",
        "  return (1/(1+np.exp(-s)))\n",
        "def relu(s):\n",
        "  return np.max(0,s)\n",
        "def sigmoid_prime(s):\n",
        "  return s*(1-s)"
      ],
      "execution_count": 0,
      "outputs": []
    },
    {
      "cell_type": "code",
      "metadata": {
        "id": "sfp0ryIm-4f7",
        "colab_type": "code",
        "colab": {}
      },
      "source": [
        "nn=NeuralNetwork(2,1,3)"
      ],
      "execution_count": 0,
      "outputs": []
    },
    {
      "cell_type": "code",
      "metadata": {
        "id": "OooT583P-9XW",
        "colab_type": "code",
        "colab": {}
      },
      "source": [
        "loss_val=[]\n",
        "test_loss=[]\n",
        "for i in range(200):\n",
        "  nn.fit(x_train,y_train)\n",
        "  loss_val.append(nn.loss(x_train,y_train))\n",
        "  test_loss.append(nn.loss(x_test,y_test))\n"
      ],
      "execution_count": 0,
      "outputs": []
    },
    {
      "cell_type": "code",
      "metadata": {
        "id": "2a-WxBBtBx41",
        "colab_type": "code",
        "colab": {}
      },
      "source": [
        "y_pred_final=[]\n",
        "for i in range(len(x_test)):\n",
        "  \n",
        "  x_test1= x_test[i].reshape(2,1)\n",
        "  op1=np.matmul(nn.w1.T,x_test1)\n",
        "  op2=np.matmul(nn.w2.T,op1)\n",
        "  if(sigmoid(op2)>0.5):\n",
        "     y_pred_final.append(1)\n",
        "  else:\n",
        "     y_pred_final.append(0)\n",
        "    \n",
        " \n",
        "    "
      ],
      "execution_count": 0,
      "outputs": []
    },
    {
      "cell_type": "code",
      "metadata": {
        "id": "jfEh1S59bhe1",
        "colab_type": "code",
        "colab": {
          "base_uri": "https://localhost:8080/",
          "height": 34
        },
        "outputId": "3dc06d17-0a80-4214-f8e4-f3dbc63158ed"
      },
      "source": [
        "y_pred_final"
      ],
      "execution_count": 149,
      "outputs": [
        {
          "output_type": "execute_result",
          "data": {
            "text/plain": [
              "[1, 0, 1, 1, 1, 1, 1, 0, 0, 1, 1]"
            ]
          },
          "metadata": {
            "tags": []
          },
          "execution_count": 149
        }
      ]
    },
    {
      "cell_type": "code",
      "metadata": {
        "id": "Xe4LsUA1dMD0",
        "colab_type": "code",
        "colab": {
          "base_uri": "https://localhost:8080/",
          "height": 202
        },
        "outputId": "40c25200-52a9-41a8-b754-65df406868b8"
      },
      "source": [
        "y_test=np.array(y_test)\n",
        "y_test\n"
      ],
      "execution_count": 153,
      "outputs": [
        {
          "output_type": "execute_result",
          "data": {
            "text/plain": [
              "array([[1],\n",
              "       [1],\n",
              "       [1],\n",
              "       [1],\n",
              "       [1],\n",
              "       [1],\n",
              "       [1],\n",
              "       [0],\n",
              "       [0],\n",
              "       [1],\n",
              "       [1]])"
            ]
          },
          "metadata": {
            "tags": []
          },
          "execution_count": 153
        }
      ]
    },
    {
      "cell_type": "code",
      "metadata": {
        "id": "Fb9BdLmUgwdg",
        "colab_type": "code",
        "colab": {
          "base_uri": "https://localhost:8080/",
          "height": 50
        },
        "outputId": "369bb71b-a326-4629-f98e-9d11c5167213"
      },
      "source": [
        "from sklearn.metrics import confusion_matrix\n",
        "cf=confusion_matrix(y_test,y_pred_final)\n",
        "cf"
      ],
      "execution_count": 155,
      "outputs": [
        {
          "output_type": "execute_result",
          "data": {
            "text/plain": [
              "array([[2, 0],\n",
              "       [1, 8]])"
            ]
          },
          "metadata": {
            "tags": []
          },
          "execution_count": 155
        }
      ]
    },
    {
      "cell_type": "code",
      "metadata": {
        "id": "2PAx5SA8i9Ww",
        "colab_type": "code",
        "colab": {
          "base_uri": "https://localhost:8080/",
          "height": 34
        },
        "outputId": "724107ba-8ebe-489c-f8ac-a6f4280c6c2b"
      },
      "source": [
        "accuracy=(10/11)\n",
        "print(accuracy)"
      ],
      "execution_count": 156,
      "outputs": [
        {
          "output_type": "stream",
          "text": [
            "0.9090909090909091\n"
          ],
          "name": "stdout"
        }
      ]
    },
    {
      "cell_type": "code",
      "metadata": {
        "id": "rqsQiZo5qy1t",
        "colab_type": "code",
        "colab": {}
      },
      "source": [
        ""
      ],
      "execution_count": 0,
      "outputs": []
    }
  ]
}